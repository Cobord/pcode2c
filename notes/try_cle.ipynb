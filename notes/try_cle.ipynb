{
 "cells": [
  {
   "cell_type": "code",
   "execution_count": 3,
   "metadata": {},
   "outputs": [
    {
     "name": "stdout",
     "output_type": "stream",
     "text": [
      "Writing /tmp/mymin.c\n"
     ]
    }
   ],
   "source": [
    "%%file /tmp/mymin.c\n",
    "int min(int a, int b) {\n",
    "    if (a < b) {\n",
    "        return a;\n",
    "    }\n",
    "    return b;\n",
    "}\n"
   ]
  },
  {
   "cell_type": "code",
   "execution_count": 14,
   "metadata": {},
   "outputs": [
    {
     "name": "stdout",
     "output_type": "stream",
     "text": [
      "Overwriting /tmp/hello.c\n"
     ]
    }
   ],
   "source": [
    "%%file /tmp/hello.c\n",
    "#include <stdio.h>\n",
    "int main(int argc) {\n",
    "    printf(\"hello world\");\n",
    "    return 0;\n",
    "}"
   ]
  },
  {
   "cell_type": "code",
   "execution_count": 15,
   "metadata": {},
   "outputs": [],
   "source": [
    "%%bash\n",
    "gcc /tmp/mymin.c -c -o /tmp/mymin.o\n",
    "gcc /tmp/hello.c -o /tmp/hello"
   ]
  },
  {
   "cell_type": "markdown",
   "metadata": {},
   "source": [
    "https://api.angr.io/projects/cle/en/latest/api/index.html\n",
    "https://api.angr.io/projects/cle/en/latest/api/relocations.html\n"
   ]
  },
  {
   "cell_type": "code",
   "execution_count": 9,
   "metadata": {},
   "outputs": [],
   "source": [
    "import cle\n",
    "filename = \"/tmp/mymin.o\"\n",
    "ld = cle.Loader(filename)"
   ]
  },
  {
   "cell_type": "code",
   "execution_count": 18,
   "metadata": {},
   "outputs": [
    {
     "data": {
      "text/plain": [
       "<Loaded mymin.o, maps [0x400000:0x400077]>"
      ]
     },
     "execution_count": 18,
     "metadata": {},
     "output_type": "execute_result"
    }
   ],
   "source": [
    "ld"
   ]
  },
  {
   "cell_type": "code",
   "execution_count": 11,
   "metadata": {},
   "outputs": [
    {
     "data": {
      "text/plain": [
       "['__class__',\n",
       " '__delattr__',\n",
       " '__dict__',\n",
       " '__dir__',\n",
       " '__doc__',\n",
       " '__eq__',\n",
       " '__format__',\n",
       " '__ge__',\n",
       " '__getattribute__',\n",
       " '__gt__',\n",
       " '__hash__',\n",
       " '__init__',\n",
       " '__init_subclass__',\n",
       " '__le__',\n",
       " '__lt__',\n",
       " '__module__',\n",
       " '__ne__',\n",
       " '__new__',\n",
       " '__reduce__',\n",
       " '__reduce_ex__',\n",
       " '__repr__',\n",
       " '__setattr__',\n",
       " '__sizeof__',\n",
       " '__str__',\n",
       " '__subclasshook__',\n",
       " '__weakref__',\n",
       " '_auto_load_libs',\n",
       " '_backend_resolver',\n",
       " '_case_insensitive',\n",
       " '_custom_ld_path',\n",
       " '_except_missing_libs',\n",
       " '_extern_object',\n",
       " '_find_safe_rebase_addr',\n",
       " '_ignore_import_version_numbers',\n",
       " '_internal_load',\n",
       " '_is_linux_loader_name',\n",
       " '_is_range_free',\n",
       " '_juggling',\n",
       " '_kernel_object',\n",
       " '_last_object',\n",
       " '_lib_opts',\n",
       " '_load_debug_info',\n",
       " '_load_object_isolated',\n",
       " '_main_binary_path',\n",
       " '_main_binary_stream',\n",
       " '_main_object',\n",
       " '_main_opts',\n",
       " '_map_object',\n",
       " '_memory',\n",
       " '_path_insensitive',\n",
       " '_perform_relocations',\n",
       " '_possible_idents',\n",
       " '_possible_paths',\n",
       " '_rebase_granularity',\n",
       " '_relocated_objects',\n",
       " '_satisfied_deps',\n",
       " '_search_load_path',\n",
       " '_static_backend',\n",
       " '_tls',\n",
       " '_use_system_libs',\n",
       " 'all_elf_objects',\n",
       " 'all_objects',\n",
       " 'all_pe_objects',\n",
       " 'aslr',\n",
       " 'auto_load_libs',\n",
       " 'close',\n",
       " 'describe_addr',\n",
       " 'dynamic_load',\n",
       " 'elfcore_object',\n",
       " 'extern_object',\n",
       " 'fast_memory_load_pointer',\n",
       " 'finalizers',\n",
       " 'find_all_symbols',\n",
       " 'find_loadable_containing',\n",
       " 'find_object',\n",
       " 'find_object_containing',\n",
       " 'find_plt_stub_name',\n",
       " 'find_relevant_relocations',\n",
       " 'find_section_containing',\n",
       " 'find_section_next_to',\n",
       " 'find_segment_containing',\n",
       " 'find_symbol',\n",
       " 'get_loader_symbolic_constraints',\n",
       " 'initial_load_objects',\n",
       " 'initializers',\n",
       " 'kernel_object',\n",
       " 'linux_loader_object',\n",
       " 'main_object',\n",
       " 'max_addr',\n",
       " 'memory',\n",
       " 'min_addr',\n",
       " 'missing_dependencies',\n",
       " 'page_size',\n",
       " 'perform_irelative_relocs',\n",
       " 'preload_libs',\n",
       " 'requested_names',\n",
       " 'shared_objects',\n",
       " 'symbols',\n",
       " 'tls']"
      ]
     },
     "execution_count": 11,
     "metadata": {},
     "output_type": "execute_result"
    }
   ],
   "source": [
    "dir(ld)"
   ]
  },
  {
   "cell_type": "code",
   "execution_count": 17,
   "metadata": {},
   "outputs": [
    {
     "data": {
      "text/plain": [
       "[<ELF Object mymin.o, maps [0x400000:0x400077]>]"
      ]
     },
     "execution_count": 17,
     "metadata": {},
     "output_type": "execute_result"
    }
   ],
   "source": [
    "ld.main_object\n",
    "ld.all_objects"
   ]
  },
  {
   "cell_type": "code",
   "execution_count": 20,
   "metadata": {},
   "outputs": [
    {
     "data": {
      "text/plain": [
       "[<Symbol \"\" in mymin.o at 0x400000>,\n",
       " <Symbol \"mymin.c\" in mymin.o at 0x400000>,\n",
       " <Symbol \"\" in mymin.o at 0x400000>,\n",
       " <Symbol \"min\" in mymin.o at 0x400000>]"
      ]
     },
     "execution_count": 20,
     "metadata": {},
     "output_type": "execute_result"
    }
   ],
   "source": [
    "list(ld.symbols)"
   ]
  }
 ],
 "metadata": {
  "kernelspec": {
   "display_name": "Python 3",
   "language": "python",
   "name": "python3"
  },
  "language_info": {
   "codemirror_mode": {
    "name": "ipython",
    "version": 3
   },
   "file_extension": ".py",
   "mimetype": "text/x-python",
   "name": "python",
   "nbconvert_exporter": "python",
   "pygments_lexer": "ipython3",
   "version": "3.10.12"
  }
 },
 "nbformat": 4,
 "nbformat_minor": 2
}
